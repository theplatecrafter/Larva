{
 "cells": [
  {
   "cell_type": "markdown",
   "metadata": {},
   "source": [
    "使うときはPoetryを使ってください。\n",
    "```bash\n",
    "$ poetry install\n",
    "$ poetry shell\n",
    "```\n",
    "Windowsで作動しなかった場合、Linuxでお試しください。\n",
    "\n",
    "\n",
    "Poetry 作動後：\n",
    "\n",
    "VSCodeでこのファイル開いた際，画面右上に出てくる「カーネルを選択」ボタンを押し，「Python 仮想環境」を選択。\n",
    "\n",
    "Larva 専用の poetry venv を選択する。\n",
    "\n",
    "エラーが出た場合，Vscodeに jupyter notebook がインストールされていない可能性がある。"
   ]
  },
  {
   "cell_type": "code",
   "execution_count": null,
   "metadata": {},
   "outputs": [
    {
     "ename": "",
     "evalue": "",
     "output_type": "error",
     "traceback": [
      "\u001b[1;31mRunning cells with 'Python 3.10.12' requires the ipykernel package.\n",
      "\u001b[1;31mRun the following command to install 'ipykernel' into the Python environment. \n",
      "\u001b[1;31mCommand: '/bin/python3 -m pip install ipykernel -U --user --force-reinstall'"
     ]
    }
   ],
   "source": [
    "import Larva.direct_data_handler as dh\n",
    "\n",
    "stl_path = \"data/stl/test_subject.stl\" ## STLデータ入力\n",
    "tri = dh.trimesh.load_mesh(stl_path)  ## STLメッシュを読み込む\n",
    "\n",
    "dh.clear_output_paths()\n",
    "\n",
    "\n",
    "dh.Bs_view_stl(stl_path) ## STLデータを見る\n",
    "\n",
    "\n",
    "slice = dh.slice_stl(tri,[0,0,1],[0,0,-10],printDeets=False) ## STL物体をスライス面（方向ベクトル [0,0,1]，面上の点の位置ベクトル [0,0,-10] ）でスライシング\n",
    "slice.saveas( \"output/CAD/dwg/slice.dwg\") ## スライス（断面図）を \"slice.dwg\" のDWG２次元図面として保存する\n",
    "\n",
    "dh.view_dwg(\"output/CAD/dwg/slice.dwg\",\"output/image\") ## 保存したDWGファイルを閲覧する\n",
    "\n"
   ]
  },
  {
   "cell_type": "code",
   "execution_count": null,
   "metadata": {},
   "outputs": [],
   "source": [
    "dh.clear_output_paths()\n",
    "\n",
    "\n",
    "slices = dh.width_slice_stl(tri,4,[0,0,1])  ## スライス面 [0,0,1]，材料厚さ 4mm でSTLデータを連続的にスライシングする\n",
    "grid_packed = dh.grid_pack_dwg(slices)  ## グリッド・パッキングアルゴリズムで各断面図を一つの図面に落とし込める\n",
    "grid_packed.saveas(\"output/CAD/dwg/sliced.dwg\")  ## パッキングした図面を保存する\n",
    "\n",
    "\n",
    "dh.view_dwg(\"output/CAD/dwg/sliced.dwg\",\"output/image\")  ## 保存したDWGファイルを閲覧する"
   ]
  },
  {
   "cell_type": "code",
   "execution_count": null,
   "metadata": {},
   "outputs": [],
   "source": [
    "dh.clear_output_paths()\n",
    "\n",
    "\n",
    "dh.Bs_view_stl(stl_path)  ## view the stl object\n",
    "\n",
    "\n",
    "least_slices = dh.directional_slice_stl(tri,4,printDeets=False)  ## 様々な方向から部品を組み合わせる機能（開発途中），材料の厚さ 4mm\n",
    "least_grid_packed = dh.grid_pack_dwg(least_slices)  ## グリッド・パッキングアルゴリズムで各部品の図面を一つの図面に落とし込める\n",
    "least_grid_packed.saveas(\"output/CAD/dwg/least_sliced.dwg\")  ## パッキングした図面を保存する\n",
    "\n",
    "\n",
    "dh.view_dwg(\"output/CAD/dwg/least_sliced.dwg\",\"output/image\")  ## 保存したDWGファイルを閲覧する"
   ]
  }
 ],
 "metadata": {
  "kernelspec": {
   "display_name": "Python 3",
   "language": "python",
   "name": "python3"
  },
  "language_info": {
   "codemirror_mode": {
    "name": "ipython",
    "version": 3
   },
   "file_extension": ".py",
   "mimetype": "text/x-python",
   "name": "python",
   "nbconvert_exporter": "python",
   "pygments_lexer": "ipython3",
   "version": "3.10.12"
  }
 },
 "nbformat": 4,
 "nbformat_minor": 2
}
